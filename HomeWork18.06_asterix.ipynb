{
 "cells": [
  {
   "cell_type": "code",
   "execution_count": 34,
   "id": "9cbcecb6",
   "metadata": {},
   "outputs": [
    {
     "name": "stdout",
     "output_type": "stream",
     "text": [
      "enter the number of lines = 4\n"
     ]
    }
   ],
   "source": [
    "nr = float(input(\"enter the number of lines = \"))"
   ]
  },
  {
   "cell_type": "code",
   "execution_count": 35,
   "id": "3f81b423",
   "metadata": {},
   "outputs": [],
   "source": [
    "nr = +1"
   ]
  },
  {
   "cell_type": "code",
   "execution_count": 36,
   "id": "70e48039",
   "metadata": {},
   "outputs": [],
   "source": [
    "for i in range(1, nr):\n",
    "    print('* '*i)\n",
    "    i += 1"
   ]
  },
  {
   "cell_type": "code",
   "execution_count": null,
   "id": "6e160062",
   "metadata": {},
   "outputs": [],
   "source": []
  }
 ],
 "metadata": {
  "kernelspec": {
   "display_name": "Python 3",
   "language": "python",
   "name": "python3"
  },
  "language_info": {
   "codemirror_mode": {
    "name": "ipython",
    "version": 3
   },
   "file_extension": ".py",
   "mimetype": "text/x-python",
   "name": "python",
   "nbconvert_exporter": "python",
   "pygments_lexer": "ipython3",
   "version": "3.7.9"
  }
 },
 "nbformat": 4,
 "nbformat_minor": 5
}
