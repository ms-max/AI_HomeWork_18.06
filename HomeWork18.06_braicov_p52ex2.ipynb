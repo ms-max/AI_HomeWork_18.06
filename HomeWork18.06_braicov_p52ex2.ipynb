{
 "cells": [
  {
   "cell_type": "code",
   "execution_count": 15,
   "id": "908b0f79",
   "metadata": {},
   "outputs": [
    {
     "name": "stdout",
     "output_type": "stream",
     "text": [
      "1\n",
      "2\n",
      "3\n",
      "6.0\n",
      "6.0\n"
     ]
    }
   ],
   "source": [
    "# e necesar de citit nr-numarul de elemente din vector, apoi de pus în range\n",
    "addition = 0\n",
    "multiplication = 1\n",
    "for i in range(3):\n",
    "    a[i] = float(input())\n",
    "    addition += a[i]\n",
    "    multiplication *= a[i]\n",
    "\n",
    "print(addition)\n",
    "print(multiplication)\n",
    "\n",
    "\n",
    "\n"
   ]
  }
 ],
 "metadata": {
  "kernelspec": {
   "display_name": "Python 3",
   "language": "python",
   "name": "python3"
  },
  "language_info": {
   "codemirror_mode": {
    "name": "ipython",
    "version": 3
   },
   "file_extension": ".py",
   "mimetype": "text/x-python",
   "name": "python",
   "nbconvert_exporter": "python",
   "pygments_lexer": "ipython3",
   "version": "3.7.9"
  }
 },
 "nbformat": 4,
 "nbformat_minor": 5
}
